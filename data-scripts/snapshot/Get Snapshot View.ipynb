{
 "cells": [
  {
   "cell_type": "markdown",
   "metadata": {},
   "source": [
    "This notebook generates top line insights for vaccinations, mobility, and equity."
   ]
  },
  {
   "cell_type": "code",
   "execution_count": 3,
   "metadata": {},
   "outputs": [],
   "source": [
    "import pandas as pd\n",
    "import json\n",
    "import os"
   ]
  },
  {
   "cell_type": "code",
   "execution_count": 5,
   "metadata": {},
   "outputs": [
    {
     "ename": "NameError",
     "evalue": "name 'dir_path' is not defined",
     "output_type": "error",
     "traceback": [
      "\u001b[1;31m---------------------------------------------------------------------------\u001b[0m",
      "\u001b[1;31mNameError\u001b[0m                                 Traceback (most recent call last)",
      "\u001b[1;32m<ipython-input-5-6c20861b3cbb>\u001b[0m in \u001b[0;36m<module>\u001b[1;34m\u001b[0m\n\u001b[0;32m      1\u001b[0m \u001b[1;31m# dir_path = os.path.dirname(os.path.realpath(__file__))\u001b[0m\u001b[1;33m\u001b[0m\u001b[1;33m\u001b[0m\u001b[1;33m\u001b[0m\u001b[0m\n\u001b[1;32m----> 2\u001b[1;33m \u001b[0mrepo_root\u001b[0m \u001b[1;33m=\u001b[0m \u001b[0mos\u001b[0m\u001b[1;33m.\u001b[0m\u001b[0mpath\u001b[0m\u001b[1;33m.\u001b[0m\u001b[0mabspath\u001b[0m\u001b[1;33m(\u001b[0m\u001b[0mos\u001b[0m\u001b[1;33m.\u001b[0m\u001b[0mpath\u001b[0m\u001b[1;33m.\u001b[0m\u001b[0mjoin\u001b[0m\u001b[1;33m(\u001b[0m\u001b[0mdir_path\u001b[0m\u001b[1;33m,\u001b[0m \u001b[1;34m'..'\u001b[0m\u001b[1;33m,\u001b[0m \u001b[1;34m'..'\u001b[0m\u001b[1;33m)\u001b[0m\u001b[1;33m)\u001b[0m\u001b[1;33m\u001b[0m\u001b[1;33m\u001b[0m\u001b[0m\n\u001b[0m",
      "\u001b[1;31mNameError\u001b[0m: name 'dir_path' is not defined"
     ]
    }
   ],
   "source": [
    "dir_path = os.path.dirname(os.path.realpath(__file__))\n",
    "repo_root = os.path.abspath(os.path.join(dir_path, '..', '..'))"
   ]
  },
  {
   "cell_type": "code",
   "execution_count": 31,
   "metadata": {},
   "outputs": [],
   "source": [
    "summaryObj = {}"
   ]
  },
  {
   "cell_type": "code",
   "execution_count": 32,
   "metadata": {},
   "outputs": [],
   "source": [
    "totalPop = pd.read_csv('../../data-scripts/cdc/state_populations.csv').population.sum()"
   ]
  },
  {
   "cell_type": "code",
   "execution_count": 33,
   "metadata": {},
   "outputs": [],
   "source": [
    "vaccinationDist = pd.read_csv('../../public/csv/vaccine_dist_cdc.csv')\n",
    "vaccinationAdmin1 = pd.read_csv('../../public/csv/vaccine_admin1_cdc.csv')\n",
    "vaccinationAdmin2 = pd.read_csv('../../public/csv/vaccine_admin2_cdc.csv')\n",
    "\n",
    "summaryObj['vaccineDose1'] = round((vaccinationAdmin1[vaccinationAdmin1.columns[-1]].sum()/totalPop)*100,0)\n",
    "summaryObj['vaccineDose2'] = round((vaccinationAdmin2[vaccinationAdmin2.columns[-1]].sum()/totalPop)*100,0)\n",
    "summaryObj['vaccineDist'] = round((vaccinationDist[vaccinationDist.columns[-1]].sum()/totalPop)*100,0)"
   ]
  },
  {
   "cell_type": "code",
   "execution_count": 34,
   "metadata": {},
   "outputs": [],
   "source": [
    "# fulltime = pd.read_csv('../../public/csv/daily_pct_fulltime_weekday.csv')\n",
    "# parttime = pd.read_csv('../../public/csv/daily_pct_parttime_weekday.csv')\n",
    "# home = pd.read_csv('../../public/csv/daily_pct_home_weekday.csv')\n",
    "fulltime = pd.read_csv('https://raw.githubusercontent.com/nofurtherinformation/covid/main/public/csv/daily_pct_fulltime_weekday.csv')\n",
    "parttime = pd.read_csv('https://raw.githubusercontent.com/nofurtherinformation/covid/main/public/csv/daily_pct_parttime_weekday.csv')\n",
    "home = pd.read_csv('https://raw.githubusercontent.com/nofurtherinformation/covid/main/public/csv/daily_pct_home_weekday.csv')\n",
    "\n",
    "summaryObj['pctFulltime'] = fulltime[fulltime.columns[-1]].median()\n",
    "summaryObj['pctParttime'] = parttime[parttime.columns[-1]].median()\n",
    "summaryObj['pctHometime'] = home[home.columns[-1]].median()"
   ]
  },
  {
   "cell_type": "code",
   "execution_count": 55,
   "metadata": {},
   "outputs": [],
   "source": [
    "healthFactors = pd.read_csv('../../public/csv/chr_health_factors.csv')\n",
    "\n",
    "summaryObj['uninsured'] = healthFactors['UnInPrc'].median()\n",
    "summaryObj['pcpRatio'] = healthFactors['PrmPhysRt'].str.slice(stop=-2).astype(int, errors=\"ignore\").median()"
   ]
  },
  {
   "cell_type": "code",
   "execution_count": 58,
   "metadata": {},
   "outputs": [],
   "source": [
    "with open('../../public/json/summary.json', 'w') as outfile:\n",
    "    json.dump(summaryObj, outfile)"
   ]
  },
  {
   "cell_type": "code",
   "execution_count": 39,
   "metadata": {},
   "outputs": [
    {
     "data": {
      "text/html": [
       "<div>\n",
       "<style scoped>\n",
       "    .dataframe tbody tr th:only-of-type {\n",
       "        vertical-align: middle;\n",
       "    }\n",
       "\n",
       "    .dataframe tbody tr th {\n",
       "        vertical-align: top;\n",
       "    }\n",
       "\n",
       "    .dataframe thead th {\n",
       "        text-align: right;\n",
       "    }\n",
       "</style>\n",
       "<table border=\"1\" class=\"dataframe\">\n",
       "  <thead>\n",
       "    <tr style=\"text-align: right;\">\n",
       "      <th></th>\n",
       "      <th>FIPS</th>\n",
       "      <th>State</th>\n",
       "      <th>County</th>\n",
       "      <th>PovChldPrc</th>\n",
       "      <th>IncRt</th>\n",
       "      <th>MedianHouseholdIncomeOr</th>\n",
       "      <th>MedianHouseholdIncome</th>\n",
       "      <th>FdInsPrc</th>\n",
       "      <th>UnEmplyPrc</th>\n",
       "      <th>UnInPrc</th>\n",
       "      <th>PrmPhysRt</th>\n",
       "      <th>PrevHospRt</th>\n",
       "      <th>RsiSgrBlckRt</th>\n",
       "      <th>SvrHsngPrbRt</th>\n",
       "    </tr>\n",
       "  </thead>\n",
       "  <tbody>\n",
       "    <tr>\n",
       "      <th>0</th>\n",
       "      <td>1000</td>\n",
       "      <td>Alabama</td>\n",
       "      <td>NaN</td>\n",
       "      <td>24.0</td>\n",
       "      <td>5.3</td>\n",
       "      <td>49881.0</td>\n",
       "      <td>49900</td>\n",
       "      <td>16</td>\n",
       "      <td>3.9</td>\n",
       "      <td>11.0</td>\n",
       "      <td>1543:1</td>\n",
       "      <td>5805.0</td>\n",
       "      <td>57.0</td>\n",
       "      <td>14</td>\n",
       "    </tr>\n",
       "    <tr>\n",
       "      <th>1</th>\n",
       "      <td>1001</td>\n",
       "      <td>Alabama</td>\n",
       "      <td>Autauga</td>\n",
       "      <td>19.0</td>\n",
       "      <td>5.2</td>\n",
       "      <td>59338.0</td>\n",
       "      <td>59300</td>\n",
       "      <td>13</td>\n",
       "      <td>3.6</td>\n",
       "      <td>9.0</td>\n",
       "      <td>2220:1</td>\n",
       "      <td>7108.0</td>\n",
       "      <td>25.0</td>\n",
       "      <td>15</td>\n",
       "    </tr>\n",
       "    <tr>\n",
       "      <th>2</th>\n",
       "      <td>1003</td>\n",
       "      <td>Alabama</td>\n",
       "      <td>Baldwin</td>\n",
       "      <td>14.0</td>\n",
       "      <td>4.4</td>\n",
       "      <td>57588.0</td>\n",
       "      <td>57600</td>\n",
       "      <td>12</td>\n",
       "      <td>3.6</td>\n",
       "      <td>11.0</td>\n",
       "      <td>1372:1</td>\n",
       "      <td>4041.0</td>\n",
       "      <td>41.0</td>\n",
       "      <td>14</td>\n",
       "    </tr>\n",
       "    <tr>\n",
       "      <th>3</th>\n",
       "      <td>1005</td>\n",
       "      <td>Alabama</td>\n",
       "      <td>Barbour</td>\n",
       "      <td>44.0</td>\n",
       "      <td>5.7</td>\n",
       "      <td>34382.0</td>\n",
       "      <td>34400</td>\n",
       "      <td>22</td>\n",
       "      <td>5.2</td>\n",
       "      <td>12.0</td>\n",
       "      <td>3159:1</td>\n",
       "      <td>6209.0</td>\n",
       "      <td>25.0</td>\n",
       "      <td>15</td>\n",
       "    </tr>\n",
       "    <tr>\n",
       "      <th>4</th>\n",
       "      <td>1007</td>\n",
       "      <td>Alabama</td>\n",
       "      <td>Bibb</td>\n",
       "      <td>28.0</td>\n",
       "      <td>4.4</td>\n",
       "      <td>46064.0</td>\n",
       "      <td>46100</td>\n",
       "      <td>14</td>\n",
       "      <td>4.0</td>\n",
       "      <td>10.0</td>\n",
       "      <td>2061:1</td>\n",
       "      <td>5961.0</td>\n",
       "      <td>53.0</td>\n",
       "      <td>10</td>\n",
       "    </tr>\n",
       "    <tr>\n",
       "      <th>...</th>\n",
       "      <td>...</td>\n",
       "      <td>...</td>\n",
       "      <td>...</td>\n",
       "      <td>...</td>\n",
       "      <td>...</td>\n",
       "      <td>...</td>\n",
       "      <td>...</td>\n",
       "      <td>...</td>\n",
       "      <td>...</td>\n",
       "      <td>...</td>\n",
       "      <td>...</td>\n",
       "      <td>...</td>\n",
       "      <td>...</td>\n",
       "      <td>...</td>\n",
       "    </tr>\n",
       "    <tr>\n",
       "      <th>3188</th>\n",
       "      <td>56037</td>\n",
       "      <td>Wyoming</td>\n",
       "      <td>Sweetwater</td>\n",
       "      <td>10.0</td>\n",
       "      <td>4.0</td>\n",
       "      <td>73315.0</td>\n",
       "      <td>73300</td>\n",
       "      <td>11</td>\n",
       "      <td>4.2</td>\n",
       "      <td>14.0</td>\n",
       "      <td>2721:1</td>\n",
       "      <td>2854.0</td>\n",
       "      <td>62.0</td>\n",
       "      <td>10</td>\n",
       "    </tr>\n",
       "    <tr>\n",
       "      <th>3189</th>\n",
       "      <td>56039</td>\n",
       "      <td>Wyoming</td>\n",
       "      <td>Teton</td>\n",
       "      <td>7.0</td>\n",
       "      <td>3.8</td>\n",
       "      <td>99087.0</td>\n",
       "      <td>99100</td>\n",
       "      <td>10</td>\n",
       "      <td>3.0</td>\n",
       "      <td>16.0</td>\n",
       "      <td>862:1</td>\n",
       "      <td>2130.0</td>\n",
       "      <td>NaN</td>\n",
       "      <td>17</td>\n",
       "    </tr>\n",
       "    <tr>\n",
       "      <th>3190</th>\n",
       "      <td>56041</td>\n",
       "      <td>Wyoming</td>\n",
       "      <td>Uinta</td>\n",
       "      <td>12.0</td>\n",
       "      <td>4.4</td>\n",
       "      <td>63401.0</td>\n",
       "      <td>63400</td>\n",
       "      <td>13</td>\n",
       "      <td>4.4</td>\n",
       "      <td>14.0</td>\n",
       "      <td>2277:1</td>\n",
       "      <td>3442.0</td>\n",
       "      <td>NaN</td>\n",
       "      <td>11</td>\n",
       "    </tr>\n",
       "    <tr>\n",
       "      <th>3191</th>\n",
       "      <td>56043</td>\n",
       "      <td>Wyoming</td>\n",
       "      <td>Washakie</td>\n",
       "      <td>16.0</td>\n",
       "      <td>3.3</td>\n",
       "      <td>55190.0</td>\n",
       "      <td>55200</td>\n",
       "      <td>11</td>\n",
       "      <td>4.2</td>\n",
       "      <td>17.0</td>\n",
       "      <td>2016:1</td>\n",
       "      <td>3979.0</td>\n",
       "      <td>NaN</td>\n",
       "      <td>10</td>\n",
       "    </tr>\n",
       "    <tr>\n",
       "      <th>3192</th>\n",
       "      <td>56045</td>\n",
       "      <td>Wyoming</td>\n",
       "      <td>Weston</td>\n",
       "      <td>16.0</td>\n",
       "      <td>5.1</td>\n",
       "      <td>54319.0</td>\n",
       "      <td>54300</td>\n",
       "      <td>13</td>\n",
       "      <td>3.5</td>\n",
       "      <td>13.0</td>\n",
       "      <td>2309:1</td>\n",
       "      <td>1359.0</td>\n",
       "      <td>NaN</td>\n",
       "      <td>14</td>\n",
       "    </tr>\n",
       "  </tbody>\n",
       "</table>\n",
       "<p>3193 rows × 14 columns</p>\n",
       "</div>"
      ],
      "text/plain": [
       "       FIPS    State      County  PovChldPrc  IncRt  MedianHouseholdIncomeOr  \\\n",
       "0      1000  Alabama         NaN        24.0    5.3                  49881.0   \n",
       "1      1001  Alabama     Autauga        19.0    5.2                  59338.0   \n",
       "2      1003  Alabama     Baldwin        14.0    4.4                  57588.0   \n",
       "3      1005  Alabama     Barbour        44.0    5.7                  34382.0   \n",
       "4      1007  Alabama        Bibb        28.0    4.4                  46064.0   \n",
       "...     ...      ...         ...         ...    ...                      ...   \n",
       "3188  56037  Wyoming  Sweetwater        10.0    4.0                  73315.0   \n",
       "3189  56039  Wyoming       Teton         7.0    3.8                  99087.0   \n",
       "3190  56041  Wyoming       Uinta        12.0    4.4                  63401.0   \n",
       "3191  56043  Wyoming    Washakie        16.0    3.3                  55190.0   \n",
       "3192  56045  Wyoming      Weston        16.0    5.1                  54319.0   \n",
       "\n",
       "      MedianHouseholdIncome  FdInsPrc  UnEmplyPrc  UnInPrc PrmPhysRt  \\\n",
       "0                     49900        16         3.9     11.0    1543:1   \n",
       "1                     59300        13         3.6      9.0    2220:1   \n",
       "2                     57600        12         3.6     11.0    1372:1   \n",
       "3                     34400        22         5.2     12.0    3159:1   \n",
       "4                     46100        14         4.0     10.0    2061:1   \n",
       "...                     ...       ...         ...      ...       ...   \n",
       "3188                  73300        11         4.2     14.0    2721:1   \n",
       "3189                  99100        10         3.0     16.0     862:1   \n",
       "3190                  63400        13         4.4     14.0    2277:1   \n",
       "3191                  55200        11         4.2     17.0    2016:1   \n",
       "3192                  54300        13         3.5     13.0    2309:1   \n",
       "\n",
       "      PrevHospRt  RsiSgrBlckRt  SvrHsngPrbRt  \n",
       "0         5805.0          57.0            14  \n",
       "1         7108.0          25.0            15  \n",
       "2         4041.0          41.0            14  \n",
       "3         6209.0          25.0            15  \n",
       "4         5961.0          53.0            10  \n",
       "...          ...           ...           ...  \n",
       "3188      2854.0          62.0            10  \n",
       "3189      2130.0           NaN            17  \n",
       "3190      3442.0           NaN            11  \n",
       "3191      3979.0           NaN            10  \n",
       "3192      1359.0           NaN            14  \n",
       "\n",
       "[3193 rows x 14 columns]"
      ]
     },
     "execution_count": 39,
     "metadata": {},
     "output_type": "execute_result"
    }
   ],
   "source": [
    "healthFactors"
   ]
  },
  {
   "cell_type": "code",
   "execution_count": 25,
   "metadata": {},
   "outputs": [
    {
     "data": {
      "text/plain": [
       "5.0"
      ]
     },
     "execution_count": 25,
     "metadata": {},
     "output_type": "execute_result"
    }
   ],
   "source": [
    "\n",
    "# summaryObj['vaccineDose1'] = round((vaccinationAdmin1[vaccinationAdmin1.columns[-1]].sum()/totalPop)*100,0)\n",
    "# summaryObj['vaccineDose2'] = round((vaccinationAdmin2[vaccinationAdmin2.columns[-1]].sum()/totalPop)*100,0)\n",
    "# summaryObj['vaccineDist'] = round((vaccinationDist[vaccinationDist.columns[-1]].sum()/totalPop)*100,0)"
   ]
  },
  {
   "cell_type": "code",
   "execution_count": 19,
   "metadata": {},
   "outputs": [
    {
     "data": {
      "text/plain": [
       "14.0"
      ]
     },
     "execution_count": 19,
     "metadata": {},
     "output_type": "execute_result"
    }
   ],
   "source": [
    "vaccineDose1"
   ]
  },
  {
   "cell_type": "code",
   "execution_count": null,
   "metadata": {},
   "outputs": [],
   "source": [
    "vaccinationDist"
   ]
  }
 ],
 "metadata": {
  "kernelspec": {
   "display_name": "Python 3",
   "language": "python",
   "name": "python3"
  },
  "language_info": {
   "codemirror_mode": {
    "name": "ipython",
    "version": 3
   },
   "file_extension": ".py",
   "mimetype": "text/x-python",
   "name": "python",
   "nbconvert_exporter": "python",
   "pygments_lexer": "ipython3",
   "version": "3.8.3"
  }
 },
 "nbformat": 4,
 "nbformat_minor": 4
}
